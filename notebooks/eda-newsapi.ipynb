{
 "cells": [
  {
   "cell_type": "code",
   "execution_count": null,
   "metadata": {},
   "outputs": [],
   "source": [
    "import dlt\n",
    "from newsapi.newsapi_client import NewsApiClient\n",
    "from dlt.sources.helpers import requests\n",
    "from datetime import datetime, timedelta\n",
    "import os\n",
    "\n",
    "news_api_key = os.environ[\"NEWS_API_KEY\"]\n",
    "\n",
    "\n",
    "@dlt.resource(table_name=\"articles_us_en\")\n",
    "def get_articles_us_en(api_key=news_api_key):\n",
    "    newsapi = NewsApiClient(api_key=api_key)\n",
    "    articles = newsapi.get_everything(\n",
    "        language=\"en\", q=\"United States\", sort_by=\"publishedAt\"\n",
    "    )\n",
    "    for article in articles[\"articles\"]:\n",
    "        yield article\n",
    "\n",
    "\n",
    "# Create and run the pipeline\n",
    "pipeline = dlt.pipeline(\n",
    "    pipeline_name=\"newsapi_articles\", destination=\"athena\", dataset_name=\"newsapi_data\"\n",
    ")\n",
    "\n",
    "# Run all resources\n",
    "load_info = pipeline.run([get_articles_us_en])  # Fetching articles for the UK\n",
    "print(load_info)"
   ]
  },
  {
   "cell_type": "code",
   "execution_count": null,
   "metadata": {},
   "outputs": [],
   "source": [
    "with pipeline.sql_client() as client:\n",
    "    with client.execute_query(\"SELECT * FROM articles_ru_ru\") as table:\n",
    "        issues = table.df()\n",
    "issues.head()"
   ]
  }
 ],
 "metadata": {
  "kernelspec": {
   "display_name": ".venv",
   "language": "python",
   "name": "python3"
  },
  "language_info": {
   "codemirror_mode": {
    "name": "ipython",
    "version": 3
   },
   "file_extension": ".py",
   "mimetype": "text/x-python",
   "name": "python",
   "nbconvert_exporter": "python",
   "pygments_lexer": "ipython3",
   "version": "3.10.6"
  }
 },
 "nbformat": 4,
 "nbformat_minor": 2
}
